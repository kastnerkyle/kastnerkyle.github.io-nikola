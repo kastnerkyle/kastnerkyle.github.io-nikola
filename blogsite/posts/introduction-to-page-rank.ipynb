{
 "cells": [
  {
   "cell_type": "markdown",
   "metadata": {},
   "source": [
    "Around 25 minutes into [this lecture](https://www.youtube.com/watch?v=60fP4WJ4oxE), there is some good discussion of the PageRank algorithm. I have always wanted to code up a basic version of this algorithm, so this is a great excuse. This algorithm is probably one of the cleanest examples of Markov Chains that I have seen, and obviously its application was quite successful.\n",
    "<!-- TEASER_END -->"
   ]
  },
  {
   "cell_type": "code",
   "execution_count": 1,
   "metadata": {
    "collapsed": false
   },
   "outputs": [],
   "source": [
    "import numpy as np\n",
    "import matplotlib.pyplot as plt\n",
    "%matplotlib inline"
   ]
  },
  {
   "cell_type": "code",
   "execution_count": 2,
   "metadata": {
    "collapsed": false
   },
   "outputs": [
    {
     "name": "stdout",
     "output_type": "stream",
     "text": [
      "pages.zip already downloaded!\n"
     ]
    }
   ],
   "source": [
    "from utils import progress_bar_downloader\n",
    "import os\n",
    "\n",
    "pages_link = 'http://www.cs.ubc.ca/~nando/340-2009/lectures/pages.zip'\n",
    "dlname = 'pages.zip'\n",
    "#This will unzip into a directory called pages\n",
    "if not os.path.exists('./%s' % dlname):\n",
    "    progress_bar_downloader(pages_link, dlname)\n",
    "    os.system('unzip %s' % dlname)\n",
    "else:\n",
    "    print('%s already downloaded!' % dlname)"
   ]
  },
  {
   "cell_type": "markdown",
   "metadata": {},
   "source": [
    "Building the Matrix\n",
    "-------------------\n",
    "\n",
    "To build the link matrix (basically an adjacency matrix for web pages), we need to look at the links referenced by every single page. For every page referenced by a page, we will add a 1 to the associated column. Adding a small term `eps` to all entries, in order guarantee the matrix is fully connected, we will then have a stochastic matrix which is suitable for Markov chain simulations! "
   ]
  },
  {
   "cell_type": "code",
   "execution_count": 3,
   "metadata": {
    "collapsed": false
   },
   "outputs": [],
   "source": [
    "#Quick and dirty link parsing as per http://www.cs.ubc.ca/~nando/540b-2011/lectures/book540.pdf\n",
    "links = {}\n",
    "for fname in os.listdir(dlname[:-4]):\n",
    "    links[fname] = []\n",
    "    f = open(dlname[:-4] + '/' + fname)\n",
    "    for line in f.readlines():\n",
    "        while True:\n",
    "            p = line.partition('<a href=\"http://')[2]\n",
    "            if p == '':\n",
    "                break\n",
    "            url, _, line = p.partition('\\\">')\n",
    "            links[fname].append(url)\n",
    "    f.close()"
   ]
  },
  {
   "cell_type": "code",
   "execution_count": 4,
   "metadata": {
    "collapsed": false
   },
   "outputs": [],
   "source": [
    "import numpy as np\n",
    "import matplotlib.pyplot as plt\n",
    "num_pages = len(links.keys())\n",
    "G = np.zeros((num_pages, num_pages))\n",
    "\n",
    "#Assign identity numbers to each page, along with a reverse lookup\n",
    "idx = {}\n",
    "lookup = {}\n",
    "for n,k in enumerate(sorted(links.keys())):\n",
    "    idx[k] = n\n",
    "    lookup[n] = k\n",
    "\n",
    "#Go through all keys, and add a 1 for each link to another page\n",
    "for k in links.keys():\n",
    "    v = links[k]\n",
    "    for e in v:\n",
    "        G[idx[k],idx[e]] = 1\n",
    "\n",
    "#Add a small value (epsilon) to ensure a fully connected graph\n",
    "eps = 1. / num_pages\n",
    "G += eps * np.ones((num_pages, num_pages))\n",
    "G = G / np.sum(G, axis=1)"
   ]
  },
  {
   "cell_type": "code",
   "execution_count": 5,
   "metadata": {
    "collapsed": false
   },
   "outputs": [
    {
     "data": {
      "text/plain": [
       "<matplotlib.legend.Legend at 0x106699710>"
      ]
     },
     "execution_count": 5,
     "metadata": {},
     "output_type": "execute_result"
    },
    {
     "data": {
      "image/png": "[encoded data removed]",
      "text/plain": [
       "<matplotlib.figure.Figure at 0x1066994e0>"
      ]
     },
     "metadata": {},
     "output_type": "display_data"
    }
   ],
   "source": [
    "#Now we run the Markov Chain until it converges from random initialization\n",
    "init = np.random.rand(1, num_pages)\n",
    "init = init / np.sum(init)\n",
    "probs = [init]\n",
    "p = init\n",
    "for i in range(100):\n",
    "    p = np.dot(p, G)\n",
    "    probs.append(p)\n",
    "\n",
    "for i in range(num_pages):\n",
    "    plt.plot([step[0, i] for step in probs], label=lookup[i], lw=2)\n",
    "    \n",
    "plt.legend()"
   ]
  },
  {
   "cell_type": "markdown",
   "metadata": {},
   "source": [
    "Turn the Beat Around\n",
    "--------------------\n",
    "\n",
    "Now that the PageRank for each page is calculated, how can we actually perform a search?\n",
    "\n",
    "We simply need to create an index of every word in a page. When we search for words, we will then sort the output by the PageRank of those pages, thus ordering the links by the *importance* we associated with that page."
   ]
  },
  {
   "cell_type": "code",
   "execution_count": 6,
   "metadata": {
    "collapsed": false
   },
   "outputs": [],
   "source": [
    "search = {}\n",
    "for fname in os.listdir(dlname[:-4]):\n",
    "    f = open(dlname[:-4] + '/' + fname)\n",
    "    for line in f.readlines():\n",
    "        #Ignore header lines\n",
    "        if '<' in line or '>' in line:\n",
    "            continue\n",
    "        words = line.strip().split(' ')\n",
    "        words = filter(lambda x: x != '', words)\n",
    "        #Remove references like [1], [2]\n",
    "        words = filter(lambda x: not ('[' in x or ']' in x), words)\n",
    "\n",
    "    for word in words:\n",
    "        if word in search:\n",
    "            if fname in search[word]:\n",
    "                search[word][fname] += 1\n",
    "            else:\n",
    "                search[word][fname] = 1\n",
    "        else:\n",
    "            search[word] = {fname: 1}\n",
    "    f.close()"
   ]
  },
  {
   "cell_type": "markdown",
   "metadata": {},
   "source": [
    "Ranking The Results\n",
    "-------------------\n",
    "\n",
    "With words indexed, we can now complete the task. Searching for a particular word (in this case, 'film'), we get back all the pages with references and counts. Sorting these so that the highest pagerank comes first, we see the ***Googley***(TM) result for our tiny web."
   ]
  },
  {
   "cell_type": "code",
   "execution_count": 7,
   "metadata": {
    "collapsed": false
   },
   "outputs": [
    {
     "name": "stdout",
     "output_type": "stream",
     "text": [
      "['martinscorcese.html', 'jenniferaniston.html', 'bradpitt.html', 'jonvoight.html']\n"
     ]
    }
   ],
   "source": [
    "def get_pr(fname):\n",
    "    return probs[-1][0, idx[fname]]\n",
    "\n",
    "r = search['film']\n",
    "print(sorted(r, reverse=True, key=get_pr))"
   ]
  },
  {
   "cell_type": "markdown",
   "metadata": {},
   "source": [
    "This is a neat application of Markov chains and a great learning experience. Though this notebook did not touch on the eigendecomposition approaches and features of PageRank, it is most definitely worth looking into - check out the paper [The $25,000,000,000 Dollar Eigenvector](http://www.rose-hulman.edu/~bryan/googleFinalVersionFixed.pdf).\n",
    "\n",
    "kk"
   ]
  }
 ],
 "metadata": {
  "kernelspec": {
   "display_name": "Python 2",
   "language": "python",
   "name": "python2"
  },
  "language_info": {
   "codemirror_mode": {
    "name": "ipython",
    "version": 2
   },
   "file_extension": ".py",
   "mimetype": "text/x-python",
   "name": "python",
   "nbconvert_exporter": "python",
   "pygments_lexer": "ipython2",
   "version": "2.7.11"
  }
 },
 "nbformat": 4,
 "nbformat_minor": 0
}
